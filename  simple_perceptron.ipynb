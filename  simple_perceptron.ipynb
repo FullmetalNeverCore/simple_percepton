{
 "cells": [
  {
   "cell_type": "code",
   "execution_count": null,
   "id": "2ed4b4a6",
   "metadata": {},
   "outputs": [],
   "source": [
    "from sklearn import datasets\n",
    "from sklearn.preprocessing import StandartScaler \n",
    "from sklearn.linear_model impoer Perceptron \n",
    "from sklearn.neural_network import MLPClassifier\n",
    "from sklearn.model_selection import train_test_split\n",
    "from sklearn.metrics import accuracy_score\n",
    "import numpy as np "
   ]
  },
  {
   "cell_type": "code",
   "execution_count": null,
   "id": "4a5d6079",
   "metadata": {},
   "outputs": [],
   "source": [
    "mi = datasets.load_digits()"
   ]
  },
  {
   "cell_type": "code",
   "execution_count": null,
   "id": "553b869f",
   "metadata": {},
   "outputs": [],
   "source": [
    "n_s = len(mi.images)\n",
    "x,y = mi.images.reshape((n,-1)),mi.target"
   ]
  },
  {
   "cell_type": "code",
   "execution_count": null,
   "id": "c9db7c48",
   "metadata": {},
   "outputs": [],
   "source": [
    "xtr,xtest,ytr,ytest = train_test_split(x,y, test_size=0.3)"
   ]
  },
  {
   "cell_type": "code",
   "execution_count": null,
   "id": "af41fcc2",
   "metadata": {},
   "outputs": [],
   "source": [
    "sc = StandartScaler()"
   ]
  },
  {
   "cell_type": "code",
   "execution_count": null,
   "id": "27b530a6",
   "metadata": {},
   "outputs": [],
   "source": [
    "sc.fit(xtr)"
   ]
  },
  {
   "cell_type": "code",
   "execution_count": null,
   "id": "5cc27361",
   "metadata": {},
   "outputs": [],
   "source": [
    "xtr_std,xtest_std = sc.transform(xtr),sc.transform(xtest)"
   ]
  },
  {
   "cell_type": "code",
   "execution_count": null,
   "id": "7e6aa6e7",
   "metadata": {},
   "outputs": [],
   "source": [
    "perpn = Perceptron(n_iter=40,eta0=0.1,random_state=0)\n",
    "multiperpn = MLPCLassifier(solver='lbfgs',alpha=1e-5 hidden_layer_sizes=(256,512,128), random_state=1)"
   ]
  },
  {
   "cell_type": "code",
   "execution_count": null,
   "id": "ac7403e2",
   "metadata": {},
   "outputs": [],
   "source": [
    "perpn.fit(xtr_std,ytr)\n",
    "multiperpn.fit(xtr_std,ytr)"
   ]
  },
  {
   "cell_type": "code",
   "execution_count": null,
   "id": "fdd55191",
   "metadata": {},
   "outputs": [],
   "source": [
    "predicitonofy = perpn.predict(xtest_std)\n",
    "multiypredict = multiperpn.predict(xtest_std)"
   ]
  },
  {
   "cell_type": "code",
   "execution_count": null,
   "id": "49358274",
   "metadata": {},
   "outputs": [],
   "source": [
    "#final\n",
    "print('SL_Perceptron_acc: %.4f' % accuracy_score(ytest,predictionofy))\n",
    "print('ML_Perceptron_acc: %.4f' % accuracy_score(ytest,multiypredict))"
   ]
  }
 ],
 "metadata": {
  "kernelspec": {
   "display_name": "Python 3",
   "language": "python",
   "name": "python3"
  }
 },
 "nbformat": 4,
 "nbformat_minor": 5
}
